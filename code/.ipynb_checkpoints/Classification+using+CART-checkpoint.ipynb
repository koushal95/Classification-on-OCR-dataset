{
 "cells": [
  {
   "cell_type": "code",
   "execution_count": 2,
   "metadata": {
    "scrolled": true
   },
   "outputs": [
    {
     "name": "stdout",
     "output_type": "stream",
     "text": [
      "[ 0.73843212  0.74607731  0.74856377  0.74382066  0.75556408  0.75244675\n",
      "  0.73723608  0.74327957  0.73732719  0.73165578]\n",
      "0.743440330735\n"
     ]
    }
   ],
   "source": [
    "## Classification using CART algorithm\n",
    "import pandas as pd\n",
    "import numpy as np\n",
    "from sklearn.model_selection import train_test_split\n",
    "from sklearn import metrics\n",
    "from sklearn import tree\n",
    "from sklearn.model_selection import cross_val_score\n",
    "\n",
    "# read the dataset\n",
    "dataset = pd.read_table(filepath_or_buffer = '..\\dataset\\letter.data',sep='\\t', header = None);\n",
    "\n",
    "# the dataset had a tab space at the end of the line hence producing NaN values, Discard that column\n",
    "dataset = dataset.iloc[:,0:134];\n",
    "\n",
    "# label the columns of the dataset\n",
    "names=['Id','letter','next_id','word_id','position','fold','p_0_0','p_0_1','p_0_2','p_0_3','p_0_4','p_0_5','p_0_6','p_0_7','p_1_0','p_1_1','p_1_2','p_1_3','p_1_4','p_1_5','p_1_6','p_1_7','p_2_0','p_2_1','p_2_2','p_2_3','p_2_4','p_2_5','p_2_6','p_2_7','p_3_0','p_3_1','p_3_2','p_3_3','p_3_4','p_3_5','p_3_6','p_3_7','p_4_0','p_4_1','p_4_2','p_4_3','p_4_4','p_4_5','p_4_6','p_4_7','p_5_0','p_5_1','p_5_2','p_5_3','p_5_4','p_5_5','p_5_6','p_5_7','p_6_0','p_6_1','p_6_2','p_6_3','p_6_4','p_6_5','p_6_6','p_6_7','p_7_0','p_7_1','p_7_2','p_7_3','p_7_4','p_7_5','p_7_6','p_7_7','p_8_0','p_8_1','p_8_2','p_8_3','p_8_4','p_8_5','p_8_6','p_8_7','p_9_0','p_9_1','p_9_2','p_9_3','p_9_4','p_9_5','p_9_6','p_9_7','p_10_0','p_10_1','p_10_2','p_10_3','p_10_4','p_10_5','p_10_6','p_10_7','p_11_0','p_11_1','p_11_2','p_11_3','p_11_4','p_11_5','p_11_6','p_11_7','p_12_0','p_12_1','p_12_2','p_12_3','p_12_4','p_12_5','p_12_6','p_12_7','p_13_0','p_13_1','p_13_2','p_13_3','p_13_4','p_13_5','p_13_6','p_13_7','p_14_0','p_14_1','p_14_2','p_14_3','p_14_4','p_14_5','p_14_6','p_14_7','p_15_0','p_15_1','p_15_2','p_15_3','p_15_4','p_15_5','p_15_6','p_15_7'];\n",
    "dataset.columns = names;\n",
    "\n",
    "# Drop unnecessary columns that are not relevant to this problem\n",
    "dataset = dataset.drop(labels=['Id','next_id','word_id', 'position'], axis=1)\n",
    "dataset\n",
    "\n",
    "# how many datapoints each fold has \n",
    "dataset.fold.value_counts()\n",
    "\n",
    "y = dataset.letter\n",
    "X = dataset.iloc[:, 2:131]\n",
    "\n",
    "# Now that we have the features and the target, split them into training and testing sets \n",
    "X_train, X_test, y_train, y_test = train_test_split(X, y, test_size=0.4)\n",
    "\n",
    "# Initialize the classifier\n",
    "clf = tree.DecisionTreeClassifier(random_state=0)\n",
    "scores = cross_val_score(clf, X, y, cv=10);\n",
    "print(scores)\n",
    "print(np.mean(scores))\n"
   ]
  },
  {
   "cell_type": "code",
   "execution_count": 4,
   "metadata": {},
   "outputs": [
    {
     "name": "stdout",
     "output_type": "stream",
     "text": [
      "Classification report for classifier DecisionTreeClassifier(class_weight=None, criterion='gini', max_depth=None,\n",
      "            max_features=None, max_leaf_nodes=None,\n",
      "            min_impurity_decrease=0.0, min_impurity_split=None,\n",
      "            min_samples_leaf=1, min_samples_split=2,\n",
      "            min_weight_fraction_leaf=0.0, presort=False, random_state=0,\n",
      "            splitter='best'):\n",
      "             precision    recall  f1-score   support\n",
      "\n",
      "          a       0.73      0.73      0.73      1619\n",
      "          b       0.69      0.62      0.65       540\n",
      "          c       0.80      0.82      0.81       859\n",
      "          d       0.60      0.59      0.60       553\n",
      "          e       0.80      0.80      0.80      1991\n",
      "          f       0.43      0.44      0.43       365\n",
      "          g       0.67      0.62      0.64      1018\n",
      "          h       0.52      0.50      0.51       369\n",
      "          i       0.82      0.84      0.83      1902\n",
      "          j       0.20      0.26      0.23        70\n",
      "          k       0.50      0.50      0.50       361\n",
      "          l       0.74      0.78      0.76      1273\n",
      "          m       0.78      0.80      0.79       605\n",
      "          n       0.79      0.82      0.80      2031\n",
      "          o       0.85      0.83      0.84      1501\n",
      "          p       0.70      0.64      0.67       584\n",
      "          q       0.25      0.23      0.24       120\n",
      "          r       0.74      0.74      0.74      1077\n",
      "          s       0.72      0.67      0.69       578\n",
      "          t       0.62      0.62      0.62       861\n",
      "          u       0.66      0.72      0.69      1022\n",
      "          v       0.46      0.49      0.47       258\n",
      "          w       0.64      0.69      0.66       210\n",
      "          x       0.41      0.39      0.40       167\n",
      "          y       0.53      0.47      0.50       492\n",
      "          z       0.63      0.59      0.61       435\n",
      "\n",
      "avg / total       0.72      0.72      0.72     20861\n",
      "\n",
      "\n"
     ]
    }
   ],
   "source": [
    "# As cross validation takes more time lets try using the train_test_split \n",
    "from sklearn.metrics import classification_report\n",
    "\n",
    "# Initialize the classifier\n",
    "clf = tree.DecisionTreeClassifier(random_state=0)\n",
    "# Train the model \n",
    "clf.fit(X_train, y_train)\n",
    "# make predictions on the dataset\n",
    "predictions = clf.predict(X_test)\n",
    "\n",
    "# report the classification score\n",
    "print(\"Classification report for classifier %s:\\n%s\\n\" % (clf, classification_report(y_test, predictions)))"
   ]
  },
  {
   "cell_type": "code",
   "execution_count": null,
   "metadata": {
    "collapsed": true
   },
   "outputs": [],
   "source": []
  }
 ],
 "metadata": {
  "kernelspec": {
   "display_name": "Python 3",
   "language": "python",
   "name": "python3"
  },
  "language_info": {
   "codemirror_mode": {
    "name": "ipython",
    "version": 3
   },
   "file_extension": ".py",
   "mimetype": "text/x-python",
   "name": "python",
   "nbconvert_exporter": "python",
   "pygments_lexer": "ipython3",
   "version": "3.6.3"
  }
 },
 "nbformat": 4,
 "nbformat_minor": 2
}
